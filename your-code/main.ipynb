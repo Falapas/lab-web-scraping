{
 "cells": [
  {
   "cell_type": "markdown",
   "metadata": {},
   "source": [
    "# Web Scraping Lab\n",
    "\n",
    "You will find in this notebook some scrapy exercises to practise your scraping skills.\n",
    "\n",
    "**Tips:**\n",
    "\n",
    "- Check the response status code for each request to ensure you have obtained the intended content.\n",
    "- Print the response text in each request to understand the kind of info you are getting and its format.\n",
    "- Check for patterns in the response text to extract the data/info requested in each question.\n",
    "- Visit the urls below and take a look at their source code through Chrome DevTools. You'll need to identify the html tags, special class names, etc used in the html content you are expected to extract.\n",
    "\n",
    "**Resources**:\n",
    "- [Requests library](http://docs.python-requests.org/en/master/#the-user-guide)\n",
    "- [Beautiful Soup Doc](https://www.crummy.com/software/BeautifulSoup/bs4/doc/)\n",
    "- [Urllib](https://docs.python.org/3/library/urllib.html#module-urllib)\n",
    "- [re lib](https://docs.python.org/3/library/re.html)\n",
    "- [lxml lib](https://lxml.de/)\n",
    "- [Scrapy](https://scrapy.org/)\n",
    "- [List of HTTP status codes](https://en.wikipedia.org/wiki/List_of_HTTP_status_codes)\n",
    "- [HTML basics](http://www.simplehtmlguide.com/cheatsheet.php)\n",
    "- [CSS basics](https://www.cssbasics.com/#page_start)"
   ]
  },
  {
   "cell_type": "markdown",
   "metadata": {},
   "source": [
    "#### Below are the libraries and modules you may need. `requests`,  `BeautifulSoup` and `pandas` are already imported for you. If you prefer to use additional libraries feel free to do it."
   ]
  },
  {
   "cell_type": "code",
   "execution_count": 1,
   "metadata": {},
   "outputs": [],
   "source": [
    "import requests\n",
    "from bs4 import BeautifulSoup\n",
    "import pandas as pd"
   ]
  },
  {
   "cell_type": "markdown",
   "metadata": {},
   "source": [
    "#### Download, parse (using BeautifulSoup), and print the content from the Trending Developers page from GitHub:"
   ]
  },
  {
   "cell_type": "code",
   "execution_count": 2,
   "metadata": {},
   "outputs": [],
   "source": [
    "# This is the url you will scrape in this exercise\n",
    "url = 'https://github.com/trending/developers'"
   ]
  },
  {
   "cell_type": "code",
   "execution_count": 3,
   "metadata": {},
   "outputs": [
    {
     "name": "stdout",
     "output_type": "stream",
     "text": [
      "200\n"
     ]
    }
   ],
   "source": [
    "# your code here\n",
    "html = requests.get(url)\n",
    "\n",
    "print(html.status_code)\n",
    "    \n",
    "html = requests.get(url).content\n",
    "\n",
    "soup = BeautifulSoup(html, \"lxml\")"
   ]
  },
  {
   "cell_type": "markdown",
   "metadata": {},
   "source": [
    "#### 1. Display the names of the trending developers retrieved in the previous step.\n",
    "\n",
    "Your output should be a Python list of developer names. Each name should not contain any html tag.\n",
    "\n",
    "**Instructions:**\n",
    "\n",
    "1. Find out the html tag and class names used for the developer names. You can achieve this using Chrome DevTools or clicking in 'Inspect' on any browser. Here is an example:\n",
    "\n",
    "![title](example_1.png)\n",
    "\n",
    "2. Use BeautifulSoup `find_all()` to extract all the html elements that contain the developer names. Hint: pass in the `attrs` parameter to specify the class.\n",
    "\n",
    "3. Loop through the elements found and get the text for each of them.\n",
    "\n",
    "4. While you are at it, use string manipulation techniques to replace whitespaces and linebreaks (i.e. `\\n`) in the *text* of each html element. Use a list to store the clean names. Hint: you may also use `.get_text()` instead of `.text` and pass in the desired parameters to do some string manipulation (check the documentation).\n",
    "\n",
    "5. Print the list of names.\n",
    "\n",
    "Your output should look like below:\n",
    "\n",
    "```\n",
    "['trimstray (@trimstray)',\n",
    " 'joewalnes (JoeWalnes)',\n",
    " 'charlax (Charles-AxelDein)',\n",
    " 'ForrestKnight (ForrestKnight)',\n",
    " 'revery-ui (revery-ui)',\n",
    " 'alibaba (Alibaba)',\n",
    " 'Microsoft (Microsoft)',\n",
    " 'github (GitHub)',\n",
    " 'facebook (Facebook)',\n",
    " 'boazsegev (Bo)',\n",
    " 'google (Google)',\n",
    " 'cloudfetch',\n",
    " 'sindresorhus (SindreSorhus)',\n",
    " 'tensorflow',\n",
    " 'apache (TheApacheSoftwareFoundation)',\n",
    " 'DevonCrawford (DevonCrawford)',\n",
    " 'ARMmbed (ArmMbed)',\n",
    " 'vuejs (vuejs)',\n",
    " 'fastai (fast.ai)',\n",
    " 'QiShaoXuan (Qi)',\n",
    " 'joelparkerhenderson (JoelParkerHenderson)',\n",
    " 'torvalds (LinusTorvalds)',\n",
    " 'CyC2018',\n",
    " 'komeiji-satori (神楽坂覚々)',\n",
    " 'script-8']\n",
    " ```"
   ]
  },
  {
   "cell_type": "code",
   "execution_count": 4,
   "metadata": {},
   "outputs": [
    {
     "name": "stdout",
     "output_type": "stream",
     "text": [
      "none\n"
     ]
    },
    {
     "data": {
      "text/plain": [
       "['dtolnay',\n",
       " 'David Tolnay',\n",
       " 'jsjoeio',\n",
       " 'Joe Previte',\n",
       " 'lukeed',\n",
       " 'Luke Edwards',\n",
       " 'willdurand',\n",
       " 'William Durand',\n",
       " 'clauderic',\n",
       " 'Claudéric Demers',\n",
       " 'hiddeco',\n",
       " 'Hidde Beydals',\n",
       " 'extrawurst',\n",
       " 'Stephan Dilly',\n",
       " 'robertsLando',\n",
       " 'Daniel Lando',\n",
       " 'earlephilhower',\n",
       " 'Earle F. Philhower, III',\n",
       " 'stefanprodan',\n",
       " 'Stefan Prodan',\n",
       " 'rmosolgo',\n",
       " 'Robert Mosolgo',\n",
       " 'nukeop',\n",
       " 'markshust',\n",
       " 'Mark Shust',\n",
       " 'fabaff',\n",
       " 'Fabian Affolter',\n",
       " 'drwpow',\n",
       " 'Drew Powers',\n",
       " 'Rich-Harris',\n",
       " 'Rich Harris',\n",
       " 'vanhauser-thc',\n",
       " 'van Hauser',\n",
       " 'shilman',\n",
       " 'Michael Shilman',\n",
       " 'bflad',\n",
       " 'Brian Flad',\n",
       " 'stof',\n",
       " 'Christophe Coevoet',\n",
       " 'markerikson',\n",
       " 'Mark Erikson',\n",
       " 'sagikazarmark',\n",
       " 'Márk Sági-Kazár',\n",
       " 'chrisbanes',\n",
       " 'Chris Banes',\n",
       " 'pedrommcarrasco',\n",
       " 'Pedro Carrasco',\n",
       " 'andig',\n",
       " 'andig']"
      ]
     },
     "execution_count": 4,
     "metadata": {},
     "output_type": "execute_result"
    }
   ],
   "source": [
    "# your code here\n",
    "\n",
    "names = []\n",
    "\n",
    "people_box = soup.find_all(\"div\", {\"class\":\"col-md-6\"})\n",
    "\n",
    "for box in people_box[::2]:\n",
    "    try:\n",
    "        names.append(box.find_all(\"p\", {\"class\":\"f4\"})[0].a.text.strip())\n",
    "    except:\n",
    "        print(\"none\")\n",
    "    try:\n",
    "        names.append(box.find_all(\"h1\", {\"class\":\"h3 lh-condensed\"})[0].a.text.strip())\n",
    "    except:\n",
    "        print(\"none\")\n",
    "        \n",
    "names"
   ]
  },
  {
   "cell_type": "markdown",
   "metadata": {},
   "source": [
    "#### 1.1. Display the trending Python repositories in GitHub.\n",
    "\n",
    "The steps to solve this problem is similar to the previous one except that you need to find out the repository names instead of developer names."
   ]
  },
  {
   "cell_type": "code",
   "execution_count": 5,
   "metadata": {},
   "outputs": [],
   "source": [
    "# This is the url you will scrape in this exercise\n",
    "url = 'https://github.com/trending/python?since=daily'"
   ]
  },
  {
   "cell_type": "code",
   "execution_count": 6,
   "metadata": {},
   "outputs": [
    {
     "data": {
      "text/plain": [
       "['lucidrains / deep-daze',\n",
       " 'public-apis / public-apis',\n",
       " 'davidbombal / red-python-scripts',\n",
       " 'apache / airflow',\n",
       " 'ZENALC / algobot',\n",
       " 'davepl / Primes',\n",
       " 'd-li14 / involution',\n",
       " 'divelab / DIG',\n",
       " 'ansible / awx',\n",
       " 'SystemErrorWang / White-box-Cartoonization',\n",
       " 'Netflix / vmaf',\n",
       " 'rwightman / pytorch-image-models',\n",
       " 'PyTorchLightning / pytorch-lightning',\n",
       " 'iPERDance / iPERCore',\n",
       " 'monosans / vk-slaves-bot',\n",
       " 'wistbean / learn_python3_spider',\n",
       " 'microsoft / recommenders',\n",
       " 'GONZOsint / gitrecon',\n",
       " 'ansible / ansible',\n",
       " 'scikit-learn / scikit-learn',\n",
       " 'The-Art-of-Hacking / h4cker',\n",
       " 'tiangolo / fastapi',\n",
       " 'espnet / espnet',\n",
       " 'ultralytics / yolov5',\n",
       " 'localstack / localstack']"
      ]
     },
     "execution_count": 6,
     "metadata": {},
     "output_type": "execute_result"
    }
   ],
   "source": [
    "# your code here\n",
    "html = requests.get(url).content\n",
    "\n",
    "soup = BeautifulSoup(html, \"lxml\")\n",
    "                     \n",
    "repos= soup.find_all(\"h1\", {\"class\":\"h3 lh-condensed\"})\n",
    "\n",
    "repos = [repo.get_text(\" \", strip = True) for repo in repos]\n",
    "\n",
    "repos"
   ]
  },
  {
   "cell_type": "markdown",
   "metadata": {},
   "source": [
    "#### 2. Display all the image links from Walt Disney wikipedia page.\n",
    "Hint: use `.get()` to access information inside tags. Check out the documentation."
   ]
  },
  {
   "cell_type": "code",
   "execution_count": 7,
   "metadata": {},
   "outputs": [],
   "source": [
    "# This is the url you will scrape in this exercise\n",
    "url = 'https://en.wikipedia.org/wiki/Walt_Disney'"
   ]
  },
  {
   "cell_type": "code",
   "execution_count": 8,
   "metadata": {},
   "outputs": [
    {
     "data": {
      "text/plain": [
       "['https://github.githubassets.com/images/search-key-slash.svg',\n",
       " '',\n",
       " '',\n",
       " '',\n",
       " '',\n",
       " 'https://avatars.githubusercontent.com/u/108653?s=40&v=4',\n",
       " 'https://avatars.githubusercontent.com/u/19983153?s=40&v=4',\n",
       " 'https://avatars.githubusercontent.com/u/3994972?s=40&v=4',\n",
       " 'https://avatars.githubusercontent.com/u/61805754?s=40&v=4',\n",
       " 'https://avatars.githubusercontent.com/u/348975?s=40&v=4',\n",
       " 'https://avatars.githubusercontent.com/u/15134885?s=40&v=4',\n",
       " 'https://avatars.githubusercontent.com/u/246103?s=40&v=4',\n",
       " 'https://avatars.githubusercontent.com/u/354085?s=40&v=4',\n",
       " 'https://avatars.githubusercontent.com/u/1655968?s=40&v=4',\n",
       " 'https://avatars.githubusercontent.com/u/5855339?s=40&v=4',\n",
       " 'https://avatars.githubusercontent.com/u/22679022?s=40&v=4',\n",
       " 'https://avatars.githubusercontent.com/u/64844294?s=40&v=4',\n",
       " 'https://avatars.githubusercontent.com/u/487433?s=40&v=4',\n",
       " 'https://avatars.githubusercontent.com/u/8811558?s=40&v=4',\n",
       " 'https://avatars.githubusercontent.com/u/595491?s=40&v=4',\n",
       " 'https://avatars.githubusercontent.com/u/12058428?s=40&v=4',\n",
       " 'https://avatars.githubusercontent.com/u/4282712?s=40&v=4',\n",
       " 'https://avatars.githubusercontent.com/u/29154973?s=40&v=4',\n",
       " 'https://avatars.githubusercontent.com/u/713525?s=40&v=4',\n",
       " 'https://avatars.githubusercontent.com/in/29110?s=40&v=4',\n",
       " 'https://avatars.githubusercontent.com/u/18449778?s=40&v=4',\n",
       " 'https://avatars.githubusercontent.com/u/3698967?s=40&v=4',\n",
       " 'https://avatars.githubusercontent.com/u/25176159?s=40&v=4',\n",
       " 'https://avatars.githubusercontent.com/u/22041000?s=40&v=4',\n",
       " 'https://avatars.githubusercontent.com/u/18172296?s=40&v=4',\n",
       " 'https://avatars.githubusercontent.com/u/33959783?s=40&v=4',\n",
       " 'https://avatars.githubusercontent.com/u/48501107?s=40&v=4',\n",
       " 'https://avatars.githubusercontent.com/u/35030752?s=40&v=4',\n",
       " 'https://avatars.githubusercontent.com/u/26543671?s=40&v=4',\n",
       " 'https://avatars.githubusercontent.com/u/9889020?s=40&v=4',\n",
       " 'https://avatars.githubusercontent.com/u/1385596?s=40&v=4',\n",
       " 'https://avatars.githubusercontent.com/u/214912?s=40&v=4',\n",
       " 'https://avatars.githubusercontent.com/u/89544?s=40&v=4',\n",
       " 'https://avatars.githubusercontent.com/u/26077659?s=40&v=4',\n",
       " 'https://avatars.githubusercontent.com/u/38557394?s=40&v=4',\n",
       " 'https://avatars.githubusercontent.com/u/19834515?s=40&v=4',\n",
       " 'https://avatars.githubusercontent.com/u/17128080?s=40&v=4',\n",
       " 'https://avatars.githubusercontent.com/u/4442504?s=40&v=4',\n",
       " 'https://avatars.githubusercontent.com/u/6012679?s=40&v=4',\n",
       " 'https://avatars.githubusercontent.com/u/8345542?s=40&v=4',\n",
       " 'https://avatars.githubusercontent.com/u/15776622?s=40&v=4',\n",
       " 'https://avatars.githubusercontent.com/u/5702664?s=40&v=4',\n",
       " 'https://avatars.githubusercontent.com/u/15088501?s=40&v=4',\n",
       " 'https://avatars.githubusercontent.com/u/1071969?s=40&v=4',\n",
       " 'https://avatars.githubusercontent.com/u/1132593?s=40&v=4',\n",
       " 'https://avatars.githubusercontent.com/u/6429795?s=40&v=4',\n",
       " 'https://avatars.githubusercontent.com/u/3640001?s=40&v=4',\n",
       " 'https://avatars.githubusercontent.com/u/6035284?s=40&v=4',\n",
       " 'https://avatars.githubusercontent.com/u/5495193?s=40&v=4',\n",
       " 'https://avatars.githubusercontent.com/u/6707363?s=40&v=4',\n",
       " 'https://avatars.githubusercontent.com/u/12861981?s=40&v=4',\n",
       " 'https://avatars.githubusercontent.com/u/22798411?s=40&v=4',\n",
       " 'https://avatars.githubusercontent.com/u/9268675?s=40&v=4',\n",
       " 'https://avatars.githubusercontent.com/u/35267863?s=40&v=4',\n",
       " 'https://avatars.githubusercontent.com/u/76561516?s=40&v=4',\n",
       " 'https://avatars.githubusercontent.com/u/11805948?s=40&v=4',\n",
       " 'https://avatars.githubusercontent.com/u/25135978?s=40&v=4',\n",
       " 'https://avatars.githubusercontent.com/u/58620217?s=40&v=4',\n",
       " 'https://avatars.githubusercontent.com/u/28009648?s=40&v=4',\n",
       " 'https://avatars.githubusercontent.com/u/3491412?s=40&v=4',\n",
       " 'https://avatars.githubusercontent.com/u/1726448?s=40&v=4',\n",
       " 'https://avatars.githubusercontent.com/u/5720537?s=40&v=4',\n",
       " 'https://avatars.githubusercontent.com/u/20682858?s=40&v=4',\n",
       " 'https://avatars.githubusercontent.com/u/7650665?s=40&v=4',\n",
       " 'https://avatars.githubusercontent.com/u/37483725?s=40&v=4',\n",
       " 'https://avatars.githubusercontent.com/u/17700?s=40&v=4',\n",
       " 'https://avatars.githubusercontent.com/u/836171?s=40&v=4',\n",
       " 'https://avatars.githubusercontent.com/u/26403?s=40&v=4',\n",
       " 'https://avatars.githubusercontent.com/u/209242?s=40&v=4',\n",
       " 'https://avatars.githubusercontent.com/u/806360?s=40&v=4',\n",
       " 'https://avatars.githubusercontent.com/u/89061?s=40&v=4',\n",
       " 'https://avatars.githubusercontent.com/u/449558?s=40&v=4',\n",
       " 'https://avatars.githubusercontent.com/u/335383?s=40&v=4',\n",
       " 'https://avatars.githubusercontent.com/u/161052?s=40&v=4',\n",
       " 'https://avatars.githubusercontent.com/u/477771?s=40&v=4',\n",
       " 'https://avatars.githubusercontent.com/u/1690898?s=40&v=4',\n",
       " 'https://avatars.githubusercontent.com/u/3452940?s=40&v=4',\n",
       " 'https://avatars.githubusercontent.com/u/3709715?s=40&v=4',\n",
       " 'https://avatars.githubusercontent.com/u/55981308?s=40&v=4',\n",
       " 'https://avatars.githubusercontent.com/u/38407321?s=40&v=4',\n",
       " 'https://avatars.githubusercontent.com/u/1326112?s=40&v=4',\n",
       " 'https://avatars.githubusercontent.com/u/39515546?s=40&v=4',\n",
       " 'https://avatars.githubusercontent.com/u/41147016?s=40&v=4',\n",
       " 'https://avatars.githubusercontent.com/u/35119617?s=40&v=4',\n",
       " 'https://avatars.githubusercontent.com/u/1104190?s=40&v=4',\n",
       " 'https://avatars.githubusercontent.com/u/22779813?s=40&v=4',\n",
       " 'https://avatars.githubusercontent.com/u/19261024?s=40&v=4',\n",
       " 'https://avatars.githubusercontent.com/u/11741550?s=40&v=4',\n",
       " 'https://avatars.githubusercontent.com/u/17924227?s=40&v=4',\n",
       " 'https://avatars.githubusercontent.com/u/6745326?s=40&v=4',\n",
       " 'https://avatars.githubusercontent.com/u/26833433?s=40&v=4',\n",
       " 'https://avatars.githubusercontent.com/u/25114852?s=40&v=4',\n",
       " 'https://avatars.githubusercontent.com/u/6035284?s=40&v=4',\n",
       " 'https://avatars.githubusercontent.com/u/9899957?s=40&v=4',\n",
       " 'https://avatars.githubusercontent.com/u/7379039?s=40&v=4',\n",
       " 'https://avatars.githubusercontent.com/u/2807888?s=40&v=4',\n",
       " 'https://avatars.githubusercontent.com/u/5101032?s=40&v=4',\n",
       " 'https://avatars.githubusercontent.com/u/29707592?s=40&v=4',\n",
       " 'https://avatars.githubusercontent.com/u/13847870?s=40&v=4',\n",
       " 'https://avatars.githubusercontent.com/u/36255728?s=40&v=4']"
      ]
     },
     "execution_count": 8,
     "metadata": {},
     "output_type": "execute_result"
    }
   ],
   "source": [
    "# your code here\n",
    "import re\n",
    "\n",
    "images = []\n",
    "\n",
    "for img in soup.findAll(\"img\"):\n",
    "    images.append(img.get(\"src\"))\n",
    "\n",
    "images"
   ]
  },
  {
   "cell_type": "markdown",
   "metadata": {},
   "source": [
    "#### 2.1. List all language names and number of related articles in the order they appear in wikipedia.org."
   ]
  },
  {
   "cell_type": "code",
   "execution_count": 9,
   "metadata": {},
   "outputs": [],
   "source": [
    "# This is the url you will scrape in this exercise\n",
    "url = 'https://www.wikipedia.org/'"
   ]
  },
  {
   "cell_type": "code",
   "execution_count": 10,
   "metadata": {},
   "outputs": [
    {
     "data": {
      "text/plain": [
       "['English 6274000+ articles',\n",
       " 'Español 1668000+ artículos',\n",
       " '日本語 1259000+ 記事',\n",
       " 'Deutsch 2553000+ Artikel',\n",
       " 'Русский 1708000+ статей',\n",
       " 'Français 2311000+ articles',\n",
       " 'Italiano 1681000+ voci',\n",
       " '中文 1185000+ 條目',\n",
       " 'Português 1061000+ artigos',\n",
       " 'Polski 1463000+ haseł']"
      ]
     },
     "execution_count": 10,
     "metadata": {},
     "output_type": "execute_result"
    }
   ],
   "source": [
    "# your code here\n",
    "html = requests.get(url).content\n",
    "soup = BeautifulSoup(html, \"lxml\")\n",
    "\n",
    "languages_articles = soup.find_all(\"div\", {\"class\":\"central-featured-lang\"})\n",
    "\n",
    "languages_articles = [wikipedia.get_text(\" \", strip = True) for wikipedia in languages_articles]\n",
    "\n",
    "languages_articles = [wikipedia.replace(\"\\xa0\",\"\") for wikipedia in languages_articles]\n",
    "\n",
    "languages_articles"
   ]
  },
  {
   "cell_type": "markdown",
   "metadata": {},
   "source": [
    "#### 2.2. Display the top 10 languages by number of native speakers stored in a pandas dataframe.\n",
    "Hint: After finding the correct table you want to analyse, you can use a nested **for** loop to find the elements row by row (check out the 'td' and 'tr' tags). <br>An easier way to do it is using pd.read_html(), check out documentation [here](https://pandas.pydata.org/pandas-docs/version/0.23.4/generated/pandas.read_html.html)."
   ]
  },
  {
   "cell_type": "code",
   "execution_count": 11,
   "metadata": {},
   "outputs": [],
   "source": [
    "# This is the url you will scrape in this exercise\n",
    "url = 'https://en.wikipedia.org/wiki/List_of_languages_by_number_of_native_speakers'"
   ]
  },
  {
   "cell_type": "code",
   "execution_count": 12,
   "metadata": {},
   "outputs": [
    {
     "data": {
      "text/html": [
       "<div>\n",
       "<style scoped>\n",
       "    .dataframe tbody tr th:only-of-type {\n",
       "        vertical-align: middle;\n",
       "    }\n",
       "\n",
       "    .dataframe tbody tr th {\n",
       "        vertical-align: top;\n",
       "    }\n",
       "\n",
       "    .dataframe thead th {\n",
       "        text-align: right;\n",
       "    }\n",
       "</style>\n",
       "<table border=\"1\" class=\"dataframe\">\n",
       "  <thead>\n",
       "    <tr style=\"text-align: right;\">\n",
       "      <th></th>\n",
       "      <th>Language</th>\n",
       "      <th>Speakers(millions)</th>\n",
       "    </tr>\n",
       "  </thead>\n",
       "  <tbody>\n",
       "    <tr>\n",
       "      <th>0</th>\n",
       "      <td>Mandarin Chinese</td>\n",
       "      <td>918.0</td>\n",
       "    </tr>\n",
       "    <tr>\n",
       "      <th>1</th>\n",
       "      <td>Spanish</td>\n",
       "      <td>480.0</td>\n",
       "    </tr>\n",
       "    <tr>\n",
       "      <th>2</th>\n",
       "      <td>English</td>\n",
       "      <td>379.0</td>\n",
       "    </tr>\n",
       "    <tr>\n",
       "      <th>3</th>\n",
       "      <td>Hindi (sanskritised Hindustani)[9]</td>\n",
       "      <td>341.0</td>\n",
       "    </tr>\n",
       "    <tr>\n",
       "      <th>4</th>\n",
       "      <td>Bengali</td>\n",
       "      <td>228.0</td>\n",
       "    </tr>\n",
       "    <tr>\n",
       "      <th>5</th>\n",
       "      <td>Portuguese</td>\n",
       "      <td>221.0</td>\n",
       "    </tr>\n",
       "    <tr>\n",
       "      <th>6</th>\n",
       "      <td>Russian</td>\n",
       "      <td>154.0</td>\n",
       "    </tr>\n",
       "    <tr>\n",
       "      <th>7</th>\n",
       "      <td>Japanese</td>\n",
       "      <td>128.0</td>\n",
       "    </tr>\n",
       "    <tr>\n",
       "      <th>8</th>\n",
       "      <td>Western Punjabi[10]</td>\n",
       "      <td>92.7</td>\n",
       "    </tr>\n",
       "    <tr>\n",
       "      <th>9</th>\n",
       "      <td>Marathi</td>\n",
       "      <td>83.1</td>\n",
       "    </tr>\n",
       "  </tbody>\n",
       "</table>\n",
       "</div>"
      ],
      "text/plain": [
       "                             Language  Speakers(millions)\n",
       "0                    Mandarin Chinese               918.0\n",
       "1                             Spanish               480.0\n",
       "2                             English               379.0\n",
       "3  Hindi (sanskritised Hindustani)[9]               341.0\n",
       "4                             Bengali               228.0\n",
       "5                          Portuguese               221.0\n",
       "6                             Russian               154.0\n",
       "7                            Japanese               128.0\n",
       "8                 Western Punjabi[10]                92.7\n",
       "9                             Marathi                83.1"
      ]
     },
     "execution_count": 12,
     "metadata": {},
     "output_type": "execute_result"
    }
   ],
   "source": [
    "# your code here\n",
    "html = requests.get(url).content\n",
    "\n",
    "soup = BeautifulSoup(html, \"lxml\")\n",
    "\n",
    "natives = pd.read_html(url)\n",
    "natives = natives[1]\n",
    "natives\n",
    "\n",
    "speakers = natives[[\"Language\", \"Speakers(millions)\"]]\n",
    "speakers.head(10)"
   ]
  },
  {
   "cell_type": "markdown",
   "metadata": {},
   "source": [
    "#### 3. Display IMDB's top 250 data (movie name, initial release, director name and stars) as a pandas dataframe.\n",
    "Hint: If you hover over the title of the movie, you should see the director's name. Can you find where it's stored in the html?"
   ]
  },
  {
   "cell_type": "code",
   "execution_count": 13,
   "metadata": {},
   "outputs": [],
   "source": [
    "# This is the url you will scrape in this exercise \n",
    "url = 'https://www.imdb.com/chart/top'"
   ]
  },
  {
   "cell_type": "code",
   "execution_count": 14,
   "metadata": {},
   "outputs": [
    {
     "data": {
      "text/html": [
       "<div>\n",
       "<style scoped>\n",
       "    .dataframe tbody tr th:only-of-type {\n",
       "        vertical-align: middle;\n",
       "    }\n",
       "\n",
       "    .dataframe tbody tr th {\n",
       "        vertical-align: top;\n",
       "    }\n",
       "\n",
       "    .dataframe thead th {\n",
       "        text-align: right;\n",
       "    }\n",
       "</style>\n",
       "<table border=\"1\" class=\"dataframe\">\n",
       "  <thead>\n",
       "    <tr style=\"text-align: right;\">\n",
       "      <th></th>\n",
       "      <th>Rank &amp; Title</th>\n",
       "      <th>IMDb Rating</th>\n",
       "      <th>Director</th>\n",
       "    </tr>\n",
       "  </thead>\n",
       "  <tbody>\n",
       "    <tr>\n",
       "      <th>0</th>\n",
       "      <td>1.  Os Condenados de Shawshank  (1994)</td>\n",
       "      <td>9.2</td>\n",
       "      <td>Frank Darabont</td>\n",
       "    </tr>\n",
       "    <tr>\n",
       "      <th>1</th>\n",
       "      <td>2.  O Padrinho  (1972)</td>\n",
       "      <td>9.1</td>\n",
       "      <td>Francis Ford Coppola</td>\n",
       "    </tr>\n",
       "    <tr>\n",
       "      <th>2</th>\n",
       "      <td>3.  O Padrinho: Parte II  (1974)</td>\n",
       "      <td>9.0</td>\n",
       "      <td>Francis Ford Coppola</td>\n",
       "    </tr>\n",
       "    <tr>\n",
       "      <th>3</th>\n",
       "      <td>4.  O Cavaleiro das Trevas  (2008)</td>\n",
       "      <td>9.0</td>\n",
       "      <td>Christopher Nolan</td>\n",
       "    </tr>\n",
       "    <tr>\n",
       "      <th>4</th>\n",
       "      <td>5.  Doze Homens em Fúria  (1957)</td>\n",
       "      <td>8.9</td>\n",
       "      <td>Sidney Lumet</td>\n",
       "    </tr>\n",
       "    <tr>\n",
       "      <th>...</th>\n",
       "      <td>...</td>\n",
       "      <td>...</td>\n",
       "      <td>...</td>\n",
       "    </tr>\n",
       "    <tr>\n",
       "      <th>245</th>\n",
       "      <td>246.  Shin seiki Evangelion Gekijô-ban: Air/Ma...</td>\n",
       "      <td>8.0</td>\n",
       "      <td>Hideaki Anno</td>\n",
       "    </tr>\n",
       "    <tr>\n",
       "      <th>246</th>\n",
       "      <td>247.  Koe no katachi  (2016)</td>\n",
       "      <td>8.0</td>\n",
       "      <td>Naoko Yamada</td>\n",
       "    </tr>\n",
       "    <tr>\n",
       "      <th>247</th>\n",
       "      <td>248.  Drishyam  (2015)</td>\n",
       "      <td>8.0</td>\n",
       "      <td>Nishikant Kamat</td>\n",
       "    </tr>\n",
       "    <tr>\n",
       "      <th>248</th>\n",
       "      <td>249.  A Batalha de Argel  (1966)</td>\n",
       "      <td>8.0</td>\n",
       "      <td>Gillo Pontecorvo</td>\n",
       "    </tr>\n",
       "    <tr>\n",
       "      <th>249</th>\n",
       "      <td>250.  Contra tempo  (2016)</td>\n",
       "      <td>8.0</td>\n",
       "      <td>Oriol Paulo</td>\n",
       "    </tr>\n",
       "  </tbody>\n",
       "</table>\n",
       "<p>250 rows × 3 columns</p>\n",
       "</div>"
      ],
      "text/plain": [
       "                                          Rank & Title  IMDb Rating  \\\n",
       "0               1.  Os Condenados de Shawshank  (1994)          9.2   \n",
       "1                               2.  O Padrinho  (1972)          9.1   \n",
       "2                     3.  O Padrinho: Parte II  (1974)          9.0   \n",
       "3                   4.  O Cavaleiro das Trevas  (2008)          9.0   \n",
       "4                     5.  Doze Homens em Fúria  (1957)          8.9   \n",
       "..                                                 ...          ...   \n",
       "245  246.  Shin seiki Evangelion Gekijô-ban: Air/Ma...          8.0   \n",
       "246                       247.  Koe no katachi  (2016)          8.0   \n",
       "247                             248.  Drishyam  (2015)          8.0   \n",
       "248                   249.  A Batalha de Argel  (1966)          8.0   \n",
       "249                         250.  Contra tempo  (2016)          8.0   \n",
       "\n",
       "                 Director  \n",
       "0          Frank Darabont  \n",
       "1    Francis Ford Coppola  \n",
       "2    Francis Ford Coppola  \n",
       "3       Christopher Nolan  \n",
       "4            Sidney Lumet  \n",
       "..                    ...  \n",
       "245          Hideaki Anno  \n",
       "246          Naoko Yamada  \n",
       "247       Nishikant Kamat  \n",
       "248      Gillo Pontecorvo  \n",
       "249           Oriol Paulo  \n",
       "\n",
       "[250 rows x 3 columns]"
      ]
     },
     "execution_count": 14,
     "metadata": {},
     "output_type": "execute_result"
    }
   ],
   "source": [
    "# your code here\n",
    "html = requests.get(url).content\n",
    "\n",
    "soup = BeautifulSoup(html, \"lxml\")\n",
    "\n",
    "directors = [soup.find_all(\"td\",{\"class\":\"titleColumn\"})[i].find(\"a\").get(\"title\").split(\",\")[0].replace(\" (dir.)\",\"\") for i in range(0,250)]\n",
    "directors\n",
    "\n",
    "movies = pd.read_html(url)\n",
    "movies = movies[0]\n",
    "movies = movies[[\"Rank & Title\",\"IMDb Rating\"]]\n",
    "movies[\"Director\"] = directors\n",
    "movies"
   ]
  },
  {
   "cell_type": "markdown",
   "metadata": {},
   "source": [
    "#### 3.1. Display the movie name, year and a brief summary of the top 10 random movies (IMDB) as a pandas dataframe."
   ]
  },
  {
   "cell_type": "code",
   "execution_count": 15,
   "metadata": {},
   "outputs": [],
   "source": [
    "#This is the url you will scrape in this exercise\n",
    "url = 'https://www.imdb.com/list/ls009796553/'"
   ]
  },
  {
   "cell_type": "code",
   "execution_count": 16,
   "metadata": {},
   "outputs": [
    {
     "data": {
      "text/html": [
       "<div>\n",
       "<style scoped>\n",
       "    .dataframe tbody tr th:only-of-type {\n",
       "        vertical-align: middle;\n",
       "    }\n",
       "\n",
       "    .dataframe tbody tr th {\n",
       "        vertical-align: top;\n",
       "    }\n",
       "\n",
       "    .dataframe thead th {\n",
       "        text-align: right;\n",
       "    }\n",
       "</style>\n",
       "<table border=\"1\" class=\"dataframe\">\n",
       "  <thead>\n",
       "    <tr style=\"text-align: right;\">\n",
       "      <th></th>\n",
       "      <th>Title</th>\n",
       "      <th>Year</th>\n",
       "      <th>Description</th>\n",
       "    </tr>\n",
       "  </thead>\n",
       "  <tbody>\n",
       "    <tr>\n",
       "      <th>0</th>\n",
       "      <td>Pesadelo em Elm Street</td>\n",
       "      <td>(1984)</td>\n",
       "      <td>The monstrous spirit of a slain child murderer...</td>\n",
       "    </tr>\n",
       "    <tr>\n",
       "      <th>1</th>\n",
       "      <td>Despertares</td>\n",
       "      <td>(1990)</td>\n",
       "      <td>The victims of an encephalitis epidemic many y...</td>\n",
       "    </tr>\n",
       "    <tr>\n",
       "      <th>2</th>\n",
       "      <td>Liga de Mulheres</td>\n",
       "      <td>(1992)</td>\n",
       "      <td>Two sisters join the first female professional...</td>\n",
       "    </tr>\n",
       "    <tr>\n",
       "      <th>3</th>\n",
       "      <td>Um Bairro em Nova Iorque</td>\n",
       "      <td>(1993)</td>\n",
       "      <td>A father becomes worried when a local gangster...</td>\n",
       "    </tr>\n",
       "    <tr>\n",
       "      <th>4</th>\n",
       "      <td>Anjos em Campo</td>\n",
       "      <td>(1994)</td>\n",
       "      <td>When a boy prays for a chance to have a family...</td>\n",
       "    </tr>\n",
       "    <tr>\n",
       "      <th>5</th>\n",
       "      <td>Tempo de Matar</td>\n",
       "      <td>(1996)</td>\n",
       "      <td>In Canton, Mississippi, a fearless young lawye...</td>\n",
       "    </tr>\n",
       "    <tr>\n",
       "      <th>6</th>\n",
       "      <td>Amistad</td>\n",
       "      <td>(1997)</td>\n",
       "      <td>In 1839, the revolt of Mende captives aboard a...</td>\n",
       "    </tr>\n",
       "    <tr>\n",
       "      <th>7</th>\n",
       "      <td>Anaconda</td>\n",
       "      <td>(1997)</td>\n",
       "      <td>A \"National Geographic\" film crew is taken hos...</td>\n",
       "    </tr>\n",
       "    <tr>\n",
       "      <th>8</th>\n",
       "      <td>A Cool, Dry Place</td>\n",
       "      <td>(1998)</td>\n",
       "      <td>Russell, single father balances his work as a ...</td>\n",
       "    </tr>\n",
       "    <tr>\n",
       "      <th>9</th>\n",
       "      <td>América Proibida</td>\n",
       "      <td>(1998)</td>\n",
       "      <td>A former neo-nazi skinhead tries to prevent hi...</td>\n",
       "    </tr>\n",
       "  </tbody>\n",
       "</table>\n",
       "</div>"
      ],
      "text/plain": [
       "                      Title    Year  \\\n",
       "0    Pesadelo em Elm Street  (1984)   \n",
       "1               Despertares  (1990)   \n",
       "2          Liga de Mulheres  (1992)   \n",
       "3  Um Bairro em Nova Iorque  (1993)   \n",
       "4            Anjos em Campo  (1994)   \n",
       "5            Tempo de Matar  (1996)   \n",
       "6                   Amistad  (1997)   \n",
       "7                  Anaconda  (1997)   \n",
       "8         A Cool, Dry Place  (1998)   \n",
       "9          América Proibida  (1998)   \n",
       "\n",
       "                                         Description  \n",
       "0  The monstrous spirit of a slain child murderer...  \n",
       "1  The victims of an encephalitis epidemic many y...  \n",
       "2  Two sisters join the first female professional...  \n",
       "3  A father becomes worried when a local gangster...  \n",
       "4  When a boy prays for a chance to have a family...  \n",
       "5  In Canton, Mississippi, a fearless young lawye...  \n",
       "6  In 1839, the revolt of Mende captives aboard a...  \n",
       "7  A \"National Geographic\" film crew is taken hos...  \n",
       "8  Russell, single father balances his work as a ...  \n",
       "9  A former neo-nazi skinhead tries to prevent hi...  "
      ]
     },
     "execution_count": 16,
     "metadata": {},
     "output_type": "execute_result"
    }
   ],
   "source": [
    "# your code here\n",
    "html = requests.get(url).content\n",
    "\n",
    "soup = BeautifulSoup(html, \"lxml\")\n",
    "\n",
    "movies_length = soup.find_all(\"div\", {\"class\":\"lister-item mode-detail\"})\n",
    "\n",
    "title = [soup.find_all(\"div\", {\"class\":\"lister-item mode-detail\"})[i].find(\"h3\").find(\"a\").get_text(strip = True) for i in range (0, len(movies_length))]\n",
    "\n",
    "year = [soup.find_all(\"div\", {\"class\":\"lister-item mode-detail\"})[i].find(\"h3\").find(\"span\", {\"class\":\"lister-item-year text-muted unbold\"}).get_text(strip = True) for i in range (0, len(movies_length))]\n",
    "\n",
    "description = [soup.find_all(\"div\", {\"class\":\"lister-item mode-detail\"})[i].find(\"p\", {\"class\":\"\"}).get_text(strip = True) for i in range (0, len(movies_length))]\n",
    "\n",
    "data = {\"Title\": title, \"Year\": year, \"Description\": description}\n",
    "\n",
    "top10 = pd.DataFrame(data)\n",
    "\n",
    "top10.head(10)"
   ]
  },
  {
   "cell_type": "markdown",
   "metadata": {},
   "source": [
    "## Bonus"
   ]
  },
  {
   "cell_type": "markdown",
   "metadata": {},
   "source": [
    "#### Find the live weather report (temperature, wind speed, description and weather) of a given city."
   ]
  },
  {
   "cell_type": "code",
   "execution_count": null,
   "metadata": {},
   "outputs": [],
   "source": [
    "#https://openweathermap.org/current\n",
    "city = input('Enter the city: ')\n",
    "url = 'http://api.openweathermap.org/data/2.5/weather?'+'q='+city+'&APPID=b35975e18dc93725acb092f7272cc6b8&units=metric'"
   ]
  },
  {
   "cell_type": "code",
   "execution_count": null,
   "metadata": {},
   "outputs": [],
   "source": [
    "# your code here"
   ]
  },
  {
   "cell_type": "markdown",
   "metadata": {},
   "source": [
    "#### Find the book name, price and stock availability as a pandas dataframe."
   ]
  },
  {
   "cell_type": "code",
   "execution_count": null,
   "metadata": {},
   "outputs": [],
   "source": [
    "# This is the url you will scrape in this exercise. \n",
    "# It is a fictional bookstore created to be scraped. \n",
    "url = 'http://books.toscrape.com/'"
   ]
  },
  {
   "cell_type": "code",
   "execution_count": null,
   "metadata": {},
   "outputs": [],
   "source": [
    "# your code here"
   ]
  },
  {
   "cell_type": "markdown",
   "metadata": {},
   "source": [
    "####  Display the 100 latest earthquakes info (date, time, latitude, longitude and region name) by the EMSC as a pandas dataframe.\n",
    "***Hint:*** Here the displayed number of earthquakes per page is 20, but you can easily move to the next page by looping through the desired number of pages and adding it to the end of the url."
   ]
  },
  {
   "cell_type": "code",
   "execution_count": null,
   "metadata": {},
   "outputs": [],
   "source": [
    "# This is the url you will scrape in this exercise\n",
    "url = 'https://www.emsc-csem.org/Earthquake/?view='\n",
    "\n",
    "# This is how you will loop through each page:\n",
    "number_of_pages = int(100/20)\n",
    "each_page_urls = []\n",
    "\n",
    "for n in range(1, number_of_pages+1):\n",
    "    link = url+str(n)\n",
    "    each_page_urls.append(link)\n",
    "    \n",
    "each_page_urls"
   ]
  },
  {
   "cell_type": "code",
   "execution_count": null,
   "metadata": {},
   "outputs": [],
   "source": [
    "# your code here"
   ]
  }
 ],
 "metadata": {
  "kernelspec": {
   "display_name": "Python 3",
   "language": "python",
   "name": "python3"
  },
  "language_info": {
   "codemirror_mode": {
    "name": "ipython",
    "version": 3
   },
   "file_extension": ".py",
   "mimetype": "text/x-python",
   "name": "python",
   "nbconvert_exporter": "python",
   "pygments_lexer": "ipython3",
   "version": "3.8.3"
  }
 },
 "nbformat": 4,
 "nbformat_minor": 4
}
